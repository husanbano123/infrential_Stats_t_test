{
 "cells": [
  {
   "cell_type": "markdown",
   "id": "7d99c3a3",
   "metadata": {},
   "source": [
    "# Statistical analysis by Parametric Test(1.T_test)"
   ]
  },
  {
   "cell_type": "markdown",
   "id": "55d4f061",
   "metadata": {},
   "source": [
    "# Step 1:Load the data"
   ]
  },
  {
   "cell_type": "code",
   "execution_count": 1,
   "id": "682d1cd5",
   "metadata": {},
   "outputs": [],
   "source": [
    "import pandas as pd\n",
    "import numpy as np\n",
    "from scipy import stats\n",
    "import matplotlib.pyplot as plt\n",
    "import seaborn as sns"
   ]
  },
  {
   "cell_type": "code",
   "execution_count": 2,
   "id": "d895ccb0",
   "metadata": {},
   "outputs": [],
   "source": [
    "one_sample=pd.read_csv(\"C:/Users/Admin/Downloads/retail_one_sample_ttest_dataset.csv\")\n",
    "two_sample=pd.read_csv(\"C:/Users/Admin/Downloads/retail_independent_ttest_dataset.csv\")\n",
    "paired_sample=pd.read_csv(\"C:/Users/Admin/Downloads/retail_paired_ttest_dataset.csv\")"
   ]
  },
  {
   "cell_type": "code",
   "execution_count": 3,
   "id": "c9a7ffdf",
   "metadata": {},
   "outputs": [
    {
     "data": {
      "text/html": [
       "<div>\n",
       "<style scoped>\n",
       "    .dataframe tbody tr th:only-of-type {\n",
       "        vertical-align: middle;\n",
       "    }\n",
       "\n",
       "    .dataframe tbody tr th {\n",
       "        vertical-align: top;\n",
       "    }\n",
       "\n",
       "    .dataframe thead th {\n",
       "        text-align: right;\n",
       "    }\n",
       "</style>\n",
       "<table border=\"1\" class=\"dataframe\">\n",
       "  <thead>\n",
       "    <tr style=\"text-align: right;\">\n",
       "      <th></th>\n",
       "      <th>store_id</th>\n",
       "      <th>store_area</th>\n",
       "      <th>items_available</th>\n",
       "      <th>daily_customer_count</th>\n",
       "      <th>monthly_sales</th>\n",
       "      <th>num_employees</th>\n",
       "      <th>store_age</th>\n",
       "    </tr>\n",
       "  </thead>\n",
       "  <tbody>\n",
       "    <tr>\n",
       "      <th>0</th>\n",
       "      <td>7</td>\n",
       "      <td>1284.466734</td>\n",
       "      <td>725</td>\n",
       "      <td>506</td>\n",
       "      <td>20568.040633</td>\n",
       "      <td>11</td>\n",
       "      <td>18</td>\n",
       "    </tr>\n",
       "    <tr>\n",
       "      <th>1</th>\n",
       "      <td>15</td>\n",
       "      <td>1435.965854</td>\n",
       "      <td>1324</td>\n",
       "      <td>509</td>\n",
       "      <td>23637.098858</td>\n",
       "      <td>18</td>\n",
       "      <td>17</td>\n",
       "    </tr>\n",
       "    <tr>\n",
       "      <th>2</th>\n",
       "      <td>11</td>\n",
       "      <td>1593.272270</td>\n",
       "      <td>2765</td>\n",
       "      <td>500</td>\n",
       "      <td>11176.428748</td>\n",
       "      <td>33</td>\n",
       "      <td>7</td>\n",
       "    </tr>\n",
       "    <tr>\n",
       "      <th>3</th>\n",
       "      <td>8</td>\n",
       "      <td>1942.606865</td>\n",
       "      <td>1436</td>\n",
       "      <td>537</td>\n",
       "      <td>28693.108672</td>\n",
       "      <td>23</td>\n",
       "      <td>13</td>\n",
       "    </tr>\n",
       "    <tr>\n",
       "      <th>4</th>\n",
       "      <td>7</td>\n",
       "      <td>1757.297887</td>\n",
       "      <td>2806</td>\n",
       "      <td>468</td>\n",
       "      <td>17844.150571</td>\n",
       "      <td>23</td>\n",
       "      <td>18</td>\n",
       "    </tr>\n",
       "    <tr>\n",
       "      <th>...</th>\n",
       "      <td>...</td>\n",
       "      <td>...</td>\n",
       "      <td>...</td>\n",
       "      <td>...</td>\n",
       "      <td>...</td>\n",
       "      <td>...</td>\n",
       "      <td>...</td>\n",
       "    </tr>\n",
       "    <tr>\n",
       "      <th>495</th>\n",
       "      <td>17</td>\n",
       "      <td>1614.722924</td>\n",
       "      <td>1235</td>\n",
       "      <td>547</td>\n",
       "      <td>30127.336710</td>\n",
       "      <td>41</td>\n",
       "      <td>12</td>\n",
       "    </tr>\n",
       "    <tr>\n",
       "      <th>496</th>\n",
       "      <td>7</td>\n",
       "      <td>1549.935662</td>\n",
       "      <td>2838</td>\n",
       "      <td>498</td>\n",
       "      <td>20665.482229</td>\n",
       "      <td>32</td>\n",
       "      <td>3</td>\n",
       "    </tr>\n",
       "    <tr>\n",
       "      <th>497</th>\n",
       "      <td>13</td>\n",
       "      <td>1647.735379</td>\n",
       "      <td>2463</td>\n",
       "      <td>500</td>\n",
       "      <td>23683.745244</td>\n",
       "      <td>29</td>\n",
       "      <td>10</td>\n",
       "    </tr>\n",
       "    <tr>\n",
       "      <th>498</th>\n",
       "      <td>4</td>\n",
       "      <td>1586.750593</td>\n",
       "      <td>2649</td>\n",
       "      <td>528</td>\n",
       "      <td>20061.609082</td>\n",
       "      <td>20</td>\n",
       "      <td>17</td>\n",
       "    </tr>\n",
       "    <tr>\n",
       "      <th>499</th>\n",
       "      <td>4</td>\n",
       "      <td>2236.590042</td>\n",
       "      <td>2509</td>\n",
       "      <td>468</td>\n",
       "      <td>18632.632387</td>\n",
       "      <td>6</td>\n",
       "      <td>2</td>\n",
       "    </tr>\n",
       "  </tbody>\n",
       "</table>\n",
       "<p>500 rows × 7 columns</p>\n",
       "</div>"
      ],
      "text/plain": [
       "     store_id   store_area  items_available  daily_customer_count  \\\n",
       "0           7  1284.466734              725                   506   \n",
       "1          15  1435.965854             1324                   509   \n",
       "2          11  1593.272270             2765                   500   \n",
       "3           8  1942.606865             1436                   537   \n",
       "4           7  1757.297887             2806                   468   \n",
       "..        ...          ...              ...                   ...   \n",
       "495        17  1614.722924             1235                   547   \n",
       "496         7  1549.935662             2838                   498   \n",
       "497        13  1647.735379             2463                   500   \n",
       "498         4  1586.750593             2649                   528   \n",
       "499         4  2236.590042             2509                   468   \n",
       "\n",
       "     monthly_sales  num_employees  store_age  \n",
       "0     20568.040633             11         18  \n",
       "1     23637.098858             18         17  \n",
       "2     11176.428748             33          7  \n",
       "3     28693.108672             23         13  \n",
       "4     17844.150571             23         18  \n",
       "..             ...            ...        ...  \n",
       "495   30127.336710             41         12  \n",
       "496   20665.482229             32          3  \n",
       "497   23683.745244             29         10  \n",
       "498   20061.609082             20         17  \n",
       "499   18632.632387              6          2  \n",
       "\n",
       "[500 rows x 7 columns]"
      ]
     },
     "execution_count": 3,
     "metadata": {},
     "output_type": "execute_result"
    }
   ],
   "source": [
    "one_sample"
   ]
  },
  {
   "cell_type": "markdown",
   "id": "0ea7d838",
   "metadata": {},
   "source": [
    "# step2: Data Processing and EDA:"
   ]
  },
  {
   "cell_type": "code",
   "execution_count": 4,
   "id": "01c41106",
   "metadata": {},
   "outputs": [
    {
     "data": {
      "text/plain": [
       "store_id                0\n",
       "store_area              0\n",
       "items_available         0\n",
       "daily_customer_count    0\n",
       "monthly_sales           0\n",
       "num_employees           0\n",
       "store_age               0\n",
       "dtype: int64"
      ]
     },
     "execution_count": 4,
     "metadata": {},
     "output_type": "execute_result"
    }
   ],
   "source": [
    "one_sample.isnull().sum()"
   ]
  },
  {
   "cell_type": "code",
   "execution_count": 5,
   "id": "c812e1db",
   "metadata": {},
   "outputs": [
    {
     "data": {
      "text/plain": [
       "0"
      ]
     },
     "execution_count": 5,
     "metadata": {},
     "output_type": "execute_result"
    }
   ],
   "source": [
    "one_sample.duplicated().sum()"
   ]
  },
  {
   "cell_type": "code",
   "execution_count": 6,
   "id": "97f31ac0",
   "metadata": {},
   "outputs": [
    {
     "data": {
      "text/html": [
       "<div>\n",
       "<style scoped>\n",
       "    .dataframe tbody tr th:only-of-type {\n",
       "        vertical-align: middle;\n",
       "    }\n",
       "\n",
       "    .dataframe tbody tr th {\n",
       "        vertical-align: top;\n",
       "    }\n",
       "\n",
       "    .dataframe thead th {\n",
       "        text-align: right;\n",
       "    }\n",
       "</style>\n",
       "<table border=\"1\" class=\"dataframe\">\n",
       "  <thead>\n",
       "    <tr style=\"text-align: right;\">\n",
       "      <th></th>\n",
       "      <th>count</th>\n",
       "      <th>mean</th>\n",
       "      <th>std</th>\n",
       "      <th>min</th>\n",
       "      <th>25%</th>\n",
       "      <th>50%</th>\n",
       "      <th>75%</th>\n",
       "      <th>max</th>\n",
       "    </tr>\n",
       "  </thead>\n",
       "  <tbody>\n",
       "    <tr>\n",
       "      <th>store_id</th>\n",
       "      <td>500.0</td>\n",
       "      <td>9.616000</td>\n",
       "      <td>5.662922</td>\n",
       "      <td>1.000000</td>\n",
       "      <td>4.750000</td>\n",
       "      <td>9.000000</td>\n",
       "      <td>15.000000</td>\n",
       "      <td>19.000000</td>\n",
       "    </tr>\n",
       "    <tr>\n",
       "      <th>store_area</th>\n",
       "      <td>500.0</td>\n",
       "      <td>1500.033666</td>\n",
       "      <td>299.278880</td>\n",
       "      <td>690.934007</td>\n",
       "      <td>1288.959528</td>\n",
       "      <td>1494.370598</td>\n",
       "      <td>1692.086499</td>\n",
       "      <td>2423.664243</td>\n",
       "    </tr>\n",
       "    <tr>\n",
       "      <th>items_available</th>\n",
       "      <td>500.0</td>\n",
       "      <td>1761.688000</td>\n",
       "      <td>713.102689</td>\n",
       "      <td>501.000000</td>\n",
       "      <td>1185.500000</td>\n",
       "      <td>1765.500000</td>\n",
       "      <td>2425.000000</td>\n",
       "      <td>2977.000000</td>\n",
       "    </tr>\n",
       "    <tr>\n",
       "      <th>daily_customer_count</th>\n",
       "      <td>500.0</td>\n",
       "      <td>499.588000</td>\n",
       "      <td>21.834003</td>\n",
       "      <td>438.000000</td>\n",
       "      <td>483.000000</td>\n",
       "      <td>500.000000</td>\n",
       "      <td>515.000000</td>\n",
       "      <td>565.000000</td>\n",
       "    </tr>\n",
       "    <tr>\n",
       "      <th>monthly_sales</th>\n",
       "      <td>500.0</td>\n",
       "      <td>22442.763482</td>\n",
       "      <td>5137.782731</td>\n",
       "      <td>7492.381587</td>\n",
       "      <td>19378.585124</td>\n",
       "      <td>22570.226365</td>\n",
       "      <td>25626.600346</td>\n",
       "      <td>38302.455403</td>\n",
       "    </tr>\n",
       "    <tr>\n",
       "      <th>num_employees</th>\n",
       "      <td>500.0</td>\n",
       "      <td>27.006000</td>\n",
       "      <td>12.525324</td>\n",
       "      <td>5.000000</td>\n",
       "      <td>17.000000</td>\n",
       "      <td>26.000000</td>\n",
       "      <td>37.000000</td>\n",
       "      <td>49.000000</td>\n",
       "    </tr>\n",
       "    <tr>\n",
       "      <th>store_age</th>\n",
       "      <td>500.0</td>\n",
       "      <td>10.340000</td>\n",
       "      <td>5.375331</td>\n",
       "      <td>1.000000</td>\n",
       "      <td>6.000000</td>\n",
       "      <td>11.000000</td>\n",
       "      <td>15.000000</td>\n",
       "      <td>19.000000</td>\n",
       "    </tr>\n",
       "  </tbody>\n",
       "</table>\n",
       "</div>"
      ],
      "text/plain": [
       "                      count          mean          std          min  \\\n",
       "store_id              500.0      9.616000     5.662922     1.000000   \n",
       "store_area            500.0   1500.033666   299.278880   690.934007   \n",
       "items_available       500.0   1761.688000   713.102689   501.000000   \n",
       "daily_customer_count  500.0    499.588000    21.834003   438.000000   \n",
       "monthly_sales         500.0  22442.763482  5137.782731  7492.381587   \n",
       "num_employees         500.0     27.006000    12.525324     5.000000   \n",
       "store_age             500.0     10.340000     5.375331     1.000000   \n",
       "\n",
       "                               25%           50%           75%           max  \n",
       "store_id                  4.750000      9.000000     15.000000     19.000000  \n",
       "store_area             1288.959528   1494.370598   1692.086499   2423.664243  \n",
       "items_available        1185.500000   1765.500000   2425.000000   2977.000000  \n",
       "daily_customer_count    483.000000    500.000000    515.000000    565.000000  \n",
       "monthly_sales         19378.585124  22570.226365  25626.600346  38302.455403  \n",
       "num_employees            17.000000     26.000000     37.000000     49.000000  \n",
       "store_age                 6.000000     11.000000     15.000000     19.000000  "
      ]
     },
     "execution_count": 6,
     "metadata": {},
     "output_type": "execute_result"
    }
   ],
   "source": [
    "one_sample.describe().T"
   ]
  },
  {
   "cell_type": "code",
   "execution_count": 7,
   "id": "68017b87",
   "metadata": {},
   "outputs": [
    {
     "name": "stdout",
     "output_type": "stream",
     "text": [
      "<class 'pandas.core.frame.DataFrame'>\n",
      "RangeIndex: 500 entries, 0 to 499\n",
      "Data columns (total 7 columns):\n",
      " #   Column                Non-Null Count  Dtype  \n",
      "---  ------                --------------  -----  \n",
      " 0   store_id              500 non-null    int64  \n",
      " 1   store_area            500 non-null    float64\n",
      " 2   items_available       500 non-null    int64  \n",
      " 3   daily_customer_count  500 non-null    int64  \n",
      " 4   monthly_sales         500 non-null    float64\n",
      " 5   num_employees         500 non-null    int64  \n",
      " 6   store_age             500 non-null    int64  \n",
      "dtypes: float64(2), int64(5)\n",
      "memory usage: 27.5 KB\n"
     ]
    }
   ],
   "source": [
    "one_sample.info()"
   ]
  },
  {
   "cell_type": "code",
   "execution_count": 8,
   "id": "cd9bb7d0",
   "metadata": {},
   "outputs": [
    {
     "data": {
      "text/html": [
       "<div>\n",
       "<style scoped>\n",
       "    .dataframe tbody tr th:only-of-type {\n",
       "        vertical-align: middle;\n",
       "    }\n",
       "\n",
       "    .dataframe tbody tr th {\n",
       "        vertical-align: top;\n",
       "    }\n",
       "\n",
       "    .dataframe thead th {\n",
       "        text-align: right;\n",
       "    }\n",
       "</style>\n",
       "<table border=\"1\" class=\"dataframe\">\n",
       "  <thead>\n",
       "    <tr style=\"text-align: right;\">\n",
       "      <th></th>\n",
       "      <th>store_id</th>\n",
       "      <th>store_area</th>\n",
       "      <th>items_available</th>\n",
       "      <th>daily_customer_count</th>\n",
       "      <th>monthly_sales</th>\n",
       "      <th>num_employees</th>\n",
       "      <th>store_age</th>\n",
       "    </tr>\n",
       "  </thead>\n",
       "  <tbody>\n",
       "    <tr>\n",
       "      <th>store_id</th>\n",
       "      <td>1.000000</td>\n",
       "      <td>-0.023099</td>\n",
       "      <td>0.000196</td>\n",
       "      <td>-0.022579</td>\n",
       "      <td>-0.006857</td>\n",
       "      <td>-0.023616</td>\n",
       "      <td>0.037807</td>\n",
       "    </tr>\n",
       "    <tr>\n",
       "      <th>store_area</th>\n",
       "      <td>-0.023099</td>\n",
       "      <td>1.000000</td>\n",
       "      <td>-0.051489</td>\n",
       "      <td>0.032645</td>\n",
       "      <td>0.059209</td>\n",
       "      <td>0.011271</td>\n",
       "      <td>0.025188</td>\n",
       "    </tr>\n",
       "    <tr>\n",
       "      <th>items_available</th>\n",
       "      <td>0.000196</td>\n",
       "      <td>-0.051489</td>\n",
       "      <td>1.000000</td>\n",
       "      <td>-0.058742</td>\n",
       "      <td>-0.043924</td>\n",
       "      <td>-0.004687</td>\n",
       "      <td>0.052051</td>\n",
       "    </tr>\n",
       "    <tr>\n",
       "      <th>daily_customer_count</th>\n",
       "      <td>-0.022579</td>\n",
       "      <td>0.032645</td>\n",
       "      <td>-0.058742</td>\n",
       "      <td>1.000000</td>\n",
       "      <td>0.032009</td>\n",
       "      <td>0.045449</td>\n",
       "      <td>0.084437</td>\n",
       "    </tr>\n",
       "    <tr>\n",
       "      <th>monthly_sales</th>\n",
       "      <td>-0.006857</td>\n",
       "      <td>0.059209</td>\n",
       "      <td>-0.043924</td>\n",
       "      <td>0.032009</td>\n",
       "      <td>1.000000</td>\n",
       "      <td>-0.012926</td>\n",
       "      <td>0.061107</td>\n",
       "    </tr>\n",
       "    <tr>\n",
       "      <th>num_employees</th>\n",
       "      <td>-0.023616</td>\n",
       "      <td>0.011271</td>\n",
       "      <td>-0.004687</td>\n",
       "      <td>0.045449</td>\n",
       "      <td>-0.012926</td>\n",
       "      <td>1.000000</td>\n",
       "      <td>-0.005358</td>\n",
       "    </tr>\n",
       "    <tr>\n",
       "      <th>store_age</th>\n",
       "      <td>0.037807</td>\n",
       "      <td>0.025188</td>\n",
       "      <td>0.052051</td>\n",
       "      <td>0.084437</td>\n",
       "      <td>0.061107</td>\n",
       "      <td>-0.005358</td>\n",
       "      <td>1.000000</td>\n",
       "    </tr>\n",
       "  </tbody>\n",
       "</table>\n",
       "</div>"
      ],
      "text/plain": [
       "                      store_id  store_area  items_available  \\\n",
       "store_id              1.000000   -0.023099         0.000196   \n",
       "store_area           -0.023099    1.000000        -0.051489   \n",
       "items_available       0.000196   -0.051489         1.000000   \n",
       "daily_customer_count -0.022579    0.032645        -0.058742   \n",
       "monthly_sales        -0.006857    0.059209        -0.043924   \n",
       "num_employees        -0.023616    0.011271        -0.004687   \n",
       "store_age             0.037807    0.025188         0.052051   \n",
       "\n",
       "                      daily_customer_count  monthly_sales  num_employees  \\\n",
       "store_id                         -0.022579      -0.006857      -0.023616   \n",
       "store_area                        0.032645       0.059209       0.011271   \n",
       "items_available                  -0.058742      -0.043924      -0.004687   \n",
       "daily_customer_count              1.000000       0.032009       0.045449   \n",
       "monthly_sales                     0.032009       1.000000      -0.012926   \n",
       "num_employees                     0.045449      -0.012926       1.000000   \n",
       "store_age                         0.084437       0.061107      -0.005358   \n",
       "\n",
       "                      store_age  \n",
       "store_id               0.037807  \n",
       "store_area             0.025188  \n",
       "items_available        0.052051  \n",
       "daily_customer_count   0.084437  \n",
       "monthly_sales          0.061107  \n",
       "num_employees         -0.005358  \n",
       "store_age              1.000000  "
      ]
     },
     "execution_count": 8,
     "metadata": {},
     "output_type": "execute_result"
    }
   ],
   "source": [
    "one_sample.corr()"
   ]
  },
  {
   "cell_type": "code",
   "execution_count": 9,
   "id": "546c5509",
   "metadata": {},
   "outputs": [
    {
     "data": {
      "text/plain": [
       "(500, 7)"
      ]
     },
     "execution_count": 9,
     "metadata": {},
     "output_type": "execute_result"
    }
   ],
   "source": [
    "one_sample.shape"
   ]
  },
  {
   "cell_type": "code",
   "execution_count": 10,
   "id": "328fdbec",
   "metadata": {},
   "outputs": [
    {
     "data": {
      "text/html": [
       "<div>\n",
       "<style scoped>\n",
       "    .dataframe tbody tr th:only-of-type {\n",
       "        vertical-align: middle;\n",
       "    }\n",
       "\n",
       "    .dataframe tbody tr th {\n",
       "        vertical-align: top;\n",
       "    }\n",
       "\n",
       "    .dataframe thead th {\n",
       "        text-align: right;\n",
       "    }\n",
       "</style>\n",
       "<table border=\"1\" class=\"dataframe\">\n",
       "  <thead>\n",
       "    <tr style=\"text-align: right;\">\n",
       "      <th></th>\n",
       "      <th>store_id</th>\n",
       "      <th>store_area</th>\n",
       "      <th>items_available</th>\n",
       "      <th>daily_customer_count</th>\n",
       "      <th>monthly_sales</th>\n",
       "      <th>num_employees</th>\n",
       "      <th>store_age</th>\n",
       "    </tr>\n",
       "  </thead>\n",
       "  <tbody>\n",
       "    <tr>\n",
       "      <th>0</th>\n",
       "      <td>7</td>\n",
       "      <td>1284.466734</td>\n",
       "      <td>725</td>\n",
       "      <td>506</td>\n",
       "      <td>20568.040633</td>\n",
       "      <td>11</td>\n",
       "      <td>18</td>\n",
       "    </tr>\n",
       "    <tr>\n",
       "      <th>1</th>\n",
       "      <td>15</td>\n",
       "      <td>1435.965854</td>\n",
       "      <td>1324</td>\n",
       "      <td>509</td>\n",
       "      <td>23637.098858</td>\n",
       "      <td>18</td>\n",
       "      <td>17</td>\n",
       "    </tr>\n",
       "    <tr>\n",
       "      <th>2</th>\n",
       "      <td>11</td>\n",
       "      <td>1593.272270</td>\n",
       "      <td>2765</td>\n",
       "      <td>500</td>\n",
       "      <td>11176.428748</td>\n",
       "      <td>33</td>\n",
       "      <td>7</td>\n",
       "    </tr>\n",
       "    <tr>\n",
       "      <th>3</th>\n",
       "      <td>8</td>\n",
       "      <td>1942.606865</td>\n",
       "      <td>1436</td>\n",
       "      <td>537</td>\n",
       "      <td>28693.108672</td>\n",
       "      <td>23</td>\n",
       "      <td>13</td>\n",
       "    </tr>\n",
       "    <tr>\n",
       "      <th>4</th>\n",
       "      <td>7</td>\n",
       "      <td>1757.297887</td>\n",
       "      <td>2806</td>\n",
       "      <td>468</td>\n",
       "      <td>17844.150571</td>\n",
       "      <td>23</td>\n",
       "      <td>18</td>\n",
       "    </tr>\n",
       "  </tbody>\n",
       "</table>\n",
       "</div>"
      ],
      "text/plain": [
       "   store_id   store_area  items_available  daily_customer_count  \\\n",
       "0         7  1284.466734              725                   506   \n",
       "1        15  1435.965854             1324                   509   \n",
       "2        11  1593.272270             2765                   500   \n",
       "3         8  1942.606865             1436                   537   \n",
       "4         7  1757.297887             2806                   468   \n",
       "\n",
       "   monthly_sales  num_employees  store_age  \n",
       "0   20568.040633             11         18  \n",
       "1   23637.098858             18         17  \n",
       "2   11176.428748             33          7  \n",
       "3   28693.108672             23         13  \n",
       "4   17844.150571             23         18  "
      ]
     },
     "execution_count": 10,
     "metadata": {},
     "output_type": "execute_result"
    }
   ],
   "source": [
    "one_sample.head(5)"
   ]
  },
  {
   "cell_type": "code",
   "execution_count": 11,
   "id": "59b197e2",
   "metadata": {},
   "outputs": [
    {
     "data": {
      "image/png": "[encoded data removed]",
      "text/plain": [
       "<Figure size 576x432 with 1 Axes>"
      ]
     },
     "metadata": {
      "needs_background": "light"
     },
     "output_type": "display_data"
    }
   ],
   "source": [
    "#visualize the sales distribution\n",
    "plt.figure(figsize=(8,6))\n",
    "sns.histplot(one_sample['monthly_sales'],kde=True)\n",
    "plt.title(\"Distribution of monthly Sales\")\n",
    "plt.show()"
   ]
  },
  {
   "cell_type": "markdown",
   "id": "663a5cbf",
   "metadata": {},
   "source": [
    "The bell curve (normal distribution) suggests that the data is symmetrically distributed around the mean."
   ]
  },
  {
   "cell_type": "markdown",
   "id": "77f0d163",
   "metadata": {},
   "source": [
    "#  step 3:One Sample t-test:"
   ]
  },
  {
   "cell_type": "code",
   "execution_count": 12,
   "id": "2fc1f4da",
   "metadata": {},
   "outputs": [
    {
     "name": "stdout",
     "output_type": "stream",
     "text": [
      "t-statistics of one sample: 1.9269971027222859\n",
      "p-value of one sample: 0.05454743294165262 \n",
      "\n",
      "Fail to reject null hypothesis : There is no enough evidence to say that the avg monthly sales is different from $22000\n"
     ]
    }
   ],
   "source": [
    "#hypothesized mean\n",
    "hypothesized_mean=22000 \n",
    "\n",
    "#perform one sample t test\n",
    "t_stats,p_value=stats.ttest_1samp(one_sample['monthly_sales'],hypothesized_mean)\n",
    "\n",
    "#define alpha\n",
    "alpha=0.05\n",
    "print(f't-statistics of one sample: {t_stats}')\n",
    "print(f'p-value of one sample: {p_value}','\\n')\n",
    "\n",
    "#determine if we reject the null hypothesis or not\n",
    "if p_value<alpha:\n",
    "    print(\"Reject the null hypothesis: The average monthly sales is significantly different from $22000\")\n",
    "else:\n",
    "    print(\"Fail to reject null hypothesis : There is no enough evidence to say that the avg monthly sales is different from $22000\")"
   ]
  },
  {
   "cell_type": "markdown",
   "id": "4c3d73bb",
   "metadata": {},
   "source": [
    "# step 4: Independent Sample T-test"
   ]
  },
  {
   "cell_type": "markdown",
   "id": "2695712f",
   "metadata": {},
   "source": [
    "# a.Data Processing and EDA"
   ]
  },
  {
   "cell_type": "code",
   "execution_count": 13,
   "id": "a7ba35da",
   "metadata": {},
   "outputs": [
    {
     "data": {
      "text/html": [
       "<div>\n",
       "<style scoped>\n",
       "    .dataframe tbody tr th:only-of-type {\n",
       "        vertical-align: middle;\n",
       "    }\n",
       "\n",
       "    .dataframe tbody tr th {\n",
       "        vertical-align: top;\n",
       "    }\n",
       "\n",
       "    .dataframe thead th {\n",
       "        text-align: right;\n",
       "    }\n",
       "</style>\n",
       "<table border=\"1\" class=\"dataframe\">\n",
       "  <thead>\n",
       "    <tr style=\"text-align: right;\">\n",
       "      <th></th>\n",
       "      <th>store_id</th>\n",
       "      <th>store_area</th>\n",
       "      <th>items_available</th>\n",
       "      <th>daily_customer_count</th>\n",
       "      <th>monthly_sales</th>\n",
       "      <th>num_employees</th>\n",
       "      <th>store_location</th>\n",
       "    </tr>\n",
       "  </thead>\n",
       "  <tbody>\n",
       "    <tr>\n",
       "      <th>0</th>\n",
       "      <td>7</td>\n",
       "      <td>1284.466734</td>\n",
       "      <td>725</td>\n",
       "      <td>506</td>\n",
       "      <td>20568.040633</td>\n",
       "      <td>11</td>\n",
       "      <td>Rural</td>\n",
       "    </tr>\n",
       "    <tr>\n",
       "      <th>1</th>\n",
       "      <td>15</td>\n",
       "      <td>1435.965854</td>\n",
       "      <td>1324</td>\n",
       "      <td>509</td>\n",
       "      <td>23637.098858</td>\n",
       "      <td>18</td>\n",
       "      <td>Rural</td>\n",
       "    </tr>\n",
       "    <tr>\n",
       "      <th>2</th>\n",
       "      <td>11</td>\n",
       "      <td>1593.272270</td>\n",
       "      <td>2765</td>\n",
       "      <td>500</td>\n",
       "      <td>11176.428748</td>\n",
       "      <td>33</td>\n",
       "      <td>Urban</td>\n",
       "    </tr>\n",
       "    <tr>\n",
       "      <th>3</th>\n",
       "      <td>8</td>\n",
       "      <td>1942.606865</td>\n",
       "      <td>1436</td>\n",
       "      <td>537</td>\n",
       "      <td>28693.108672</td>\n",
       "      <td>23</td>\n",
       "      <td>Urban</td>\n",
       "    </tr>\n",
       "    <tr>\n",
       "      <th>4</th>\n",
       "      <td>7</td>\n",
       "      <td>1757.297887</td>\n",
       "      <td>2806</td>\n",
       "      <td>468</td>\n",
       "      <td>17844.150571</td>\n",
       "      <td>23</td>\n",
       "      <td>Rural</td>\n",
       "    </tr>\n",
       "    <tr>\n",
       "      <th>...</th>\n",
       "      <td>...</td>\n",
       "      <td>...</td>\n",
       "      <td>...</td>\n",
       "      <td>...</td>\n",
       "      <td>...</td>\n",
       "      <td>...</td>\n",
       "      <td>...</td>\n",
       "    </tr>\n",
       "    <tr>\n",
       "      <th>495</th>\n",
       "      <td>17</td>\n",
       "      <td>1614.722924</td>\n",
       "      <td>1235</td>\n",
       "      <td>547</td>\n",
       "      <td>30127.336710</td>\n",
       "      <td>41</td>\n",
       "      <td>Rural</td>\n",
       "    </tr>\n",
       "    <tr>\n",
       "      <th>496</th>\n",
       "      <td>7</td>\n",
       "      <td>1549.935662</td>\n",
       "      <td>2838</td>\n",
       "      <td>498</td>\n",
       "      <td>20665.482229</td>\n",
       "      <td>32</td>\n",
       "      <td>Rural</td>\n",
       "    </tr>\n",
       "    <tr>\n",
       "      <th>497</th>\n",
       "      <td>13</td>\n",
       "      <td>1647.735379</td>\n",
       "      <td>2463</td>\n",
       "      <td>500</td>\n",
       "      <td>23683.745244</td>\n",
       "      <td>29</td>\n",
       "      <td>Urban</td>\n",
       "    </tr>\n",
       "    <tr>\n",
       "      <th>498</th>\n",
       "      <td>4</td>\n",
       "      <td>1586.750593</td>\n",
       "      <td>2649</td>\n",
       "      <td>528</td>\n",
       "      <td>20061.609082</td>\n",
       "      <td>20</td>\n",
       "      <td>Rural</td>\n",
       "    </tr>\n",
       "    <tr>\n",
       "      <th>499</th>\n",
       "      <td>4</td>\n",
       "      <td>2236.590042</td>\n",
       "      <td>2509</td>\n",
       "      <td>468</td>\n",
       "      <td>18632.632387</td>\n",
       "      <td>6</td>\n",
       "      <td>Urban</td>\n",
       "    </tr>\n",
       "  </tbody>\n",
       "</table>\n",
       "<p>500 rows × 7 columns</p>\n",
       "</div>"
      ],
      "text/plain": [
       "     store_id   store_area  items_available  daily_customer_count  \\\n",
       "0           7  1284.466734              725                   506   \n",
       "1          15  1435.965854             1324                   509   \n",
       "2          11  1593.272270             2765                   500   \n",
       "3           8  1942.606865             1436                   537   \n",
       "4           7  1757.297887             2806                   468   \n",
       "..        ...          ...              ...                   ...   \n",
       "495        17  1614.722924             1235                   547   \n",
       "496         7  1549.935662             2838                   498   \n",
       "497        13  1647.735379             2463                   500   \n",
       "498         4  1586.750593             2649                   528   \n",
       "499         4  2236.590042             2509                   468   \n",
       "\n",
       "     monthly_sales  num_employees store_location  \n",
       "0     20568.040633             11          Rural  \n",
       "1     23637.098858             18          Rural  \n",
       "2     11176.428748             33          Urban  \n",
       "3     28693.108672             23          Urban  \n",
       "4     17844.150571             23          Rural  \n",
       "..             ...            ...            ...  \n",
       "495   30127.336710             41          Rural  \n",
       "496   20665.482229             32          Rural  \n",
       "497   23683.745244             29          Urban  \n",
       "498   20061.609082             20          Rural  \n",
       "499   18632.632387              6          Urban  \n",
       "\n",
       "[500 rows x 7 columns]"
      ]
     },
     "execution_count": 13,
     "metadata": {},
     "output_type": "execute_result"
    }
   ],
   "source": [
    "two_sample"
   ]
  },
  {
   "cell_type": "code",
   "execution_count": 14,
   "id": "d57ae9d1",
   "metadata": {},
   "outputs": [
    {
     "data": {
      "text/html": [
       "<div>\n",
       "<style scoped>\n",
       "    .dataframe tbody tr th:only-of-type {\n",
       "        vertical-align: middle;\n",
       "    }\n",
       "\n",
       "    .dataframe tbody tr th {\n",
       "        vertical-align: top;\n",
       "    }\n",
       "\n",
       "    .dataframe thead th {\n",
       "        text-align: right;\n",
       "    }\n",
       "</style>\n",
       "<table border=\"1\" class=\"dataframe\">\n",
       "  <thead>\n",
       "    <tr style=\"text-align: right;\">\n",
       "      <th></th>\n",
       "      <th>count</th>\n",
       "      <th>mean</th>\n",
       "      <th>std</th>\n",
       "      <th>min</th>\n",
       "      <th>25%</th>\n",
       "      <th>50%</th>\n",
       "      <th>75%</th>\n",
       "      <th>max</th>\n",
       "    </tr>\n",
       "  </thead>\n",
       "  <tbody>\n",
       "    <tr>\n",
       "      <th>store_id</th>\n",
       "      <td>500.0</td>\n",
       "      <td>9.616000</td>\n",
       "      <td>5.662922</td>\n",
       "      <td>1.000000</td>\n",
       "      <td>4.750000</td>\n",
       "      <td>9.000000</td>\n",
       "      <td>15.000000</td>\n",
       "      <td>19.000000</td>\n",
       "    </tr>\n",
       "    <tr>\n",
       "      <th>store_area</th>\n",
       "      <td>500.0</td>\n",
       "      <td>1500.033666</td>\n",
       "      <td>299.278880</td>\n",
       "      <td>690.934007</td>\n",
       "      <td>1288.959528</td>\n",
       "      <td>1494.370598</td>\n",
       "      <td>1692.086499</td>\n",
       "      <td>2423.664243</td>\n",
       "    </tr>\n",
       "    <tr>\n",
       "      <th>items_available</th>\n",
       "      <td>500.0</td>\n",
       "      <td>1761.688000</td>\n",
       "      <td>713.102689</td>\n",
       "      <td>501.000000</td>\n",
       "      <td>1185.500000</td>\n",
       "      <td>1765.500000</td>\n",
       "      <td>2425.000000</td>\n",
       "      <td>2977.000000</td>\n",
       "    </tr>\n",
       "    <tr>\n",
       "      <th>daily_customer_count</th>\n",
       "      <td>500.0</td>\n",
       "      <td>499.588000</td>\n",
       "      <td>21.834003</td>\n",
       "      <td>438.000000</td>\n",
       "      <td>483.000000</td>\n",
       "      <td>500.000000</td>\n",
       "      <td>515.000000</td>\n",
       "      <td>565.000000</td>\n",
       "    </tr>\n",
       "    <tr>\n",
       "      <th>monthly_sales</th>\n",
       "      <td>500.0</td>\n",
       "      <td>22442.763482</td>\n",
       "      <td>5137.782731</td>\n",
       "      <td>7492.381587</td>\n",
       "      <td>19378.585124</td>\n",
       "      <td>22570.226365</td>\n",
       "      <td>25626.600346</td>\n",
       "      <td>38302.455403</td>\n",
       "    </tr>\n",
       "    <tr>\n",
       "      <th>num_employees</th>\n",
       "      <td>500.0</td>\n",
       "      <td>27.006000</td>\n",
       "      <td>12.525324</td>\n",
       "      <td>5.000000</td>\n",
       "      <td>17.000000</td>\n",
       "      <td>26.000000</td>\n",
       "      <td>37.000000</td>\n",
       "      <td>49.000000</td>\n",
       "    </tr>\n",
       "  </tbody>\n",
       "</table>\n",
       "</div>"
      ],
      "text/plain": [
       "                      count          mean          std          min  \\\n",
       "store_id              500.0      9.616000     5.662922     1.000000   \n",
       "store_area            500.0   1500.033666   299.278880   690.934007   \n",
       "items_available       500.0   1761.688000   713.102689   501.000000   \n",
       "daily_customer_count  500.0    499.588000    21.834003   438.000000   \n",
       "monthly_sales         500.0  22442.763482  5137.782731  7492.381587   \n",
       "num_employees         500.0     27.006000    12.525324     5.000000   \n",
       "\n",
       "                               25%           50%           75%           max  \n",
       "store_id                  4.750000      9.000000     15.000000     19.000000  \n",
       "store_area             1288.959528   1494.370598   1692.086499   2423.664243  \n",
       "items_available        1185.500000   1765.500000   2425.000000   2977.000000  \n",
       "daily_customer_count    483.000000    500.000000    515.000000    565.000000  \n",
       "monthly_sales         19378.585124  22570.226365  25626.600346  38302.455403  \n",
       "num_employees            17.000000     26.000000     37.000000     49.000000  "
      ]
     },
     "execution_count": 14,
     "metadata": {},
     "output_type": "execute_result"
    }
   ],
   "source": [
    "#calculate the descriptive stats\n",
    "two_sample.describe().T"
   ]
  },
  {
   "cell_type": "code",
   "execution_count": 15,
   "id": "df99f6fb",
   "metadata": {},
   "outputs": [
    {
     "data": {
      "text/plain": [
       "store_id                0\n",
       "store_area              0\n",
       "items_available         0\n",
       "daily_customer_count    0\n",
       "monthly_sales           0\n",
       "num_employees           0\n",
       "store_location          0\n",
       "dtype: int64"
      ]
     },
     "execution_count": 15,
     "metadata": {},
     "output_type": "execute_result"
    }
   ],
   "source": [
    "two_sample.isnull().sum()"
   ]
  },
  {
   "cell_type": "code",
   "execution_count": 16,
   "id": "969d3fcb",
   "metadata": {},
   "outputs": [
    {
     "data": {
      "text/plain": [
       "0"
      ]
     },
     "execution_count": 16,
     "metadata": {},
     "output_type": "execute_result"
    }
   ],
   "source": [
    "two_sample.duplicated().sum()"
   ]
  },
  {
   "cell_type": "code",
   "execution_count": 17,
   "id": "8957cff8",
   "metadata": {},
   "outputs": [
    {
     "name": "stdout",
     "output_type": "stream",
     "text": [
      "<class 'pandas.core.frame.DataFrame'>\n",
      "RangeIndex: 500 entries, 0 to 499\n",
      "Data columns (total 7 columns):\n",
      " #   Column                Non-Null Count  Dtype  \n",
      "---  ------                --------------  -----  \n",
      " 0   store_id              500 non-null    int64  \n",
      " 1   store_area            500 non-null    float64\n",
      " 2   items_available       500 non-null    int64  \n",
      " 3   daily_customer_count  500 non-null    int64  \n",
      " 4   monthly_sales         500 non-null    float64\n",
      " 5   num_employees         500 non-null    int64  \n",
      " 6   store_location        500 non-null    object \n",
      "dtypes: float64(2), int64(4), object(1)\n",
      "memory usage: 27.5+ KB\n"
     ]
    }
   ],
   "source": [
    "two_sample.info()"
   ]
  },
  {
   "cell_type": "code",
   "execution_count": 18,
   "id": "06fee34e",
   "metadata": {},
   "outputs": [
    {
     "data": {
      "text/plain": [
       "(500, 7)"
      ]
     },
     "execution_count": 18,
     "metadata": {},
     "output_type": "execute_result"
    }
   ],
   "source": [
    "two_sample.shape"
   ]
  },
  {
   "cell_type": "code",
   "execution_count": 19,
   "id": "46d133c4",
   "metadata": {},
   "outputs": [
    {
     "data": {
      "image/png": "[encoded data removed]",
      "text/plain": [
       "<Figure size 720x432 with 1 Axes>"
      ]
     },
     "metadata": {
      "needs_background": "light"
     },
     "output_type": "display_data"
    }
   ],
   "source": [
    "# Visualize the data distribution\n",
    "plt.figure(figsize=(10, 6))\n",
    "sns.histplot(data=two_sample, x='monthly_sales', hue='store_location', kde=True, element='step',palette='bright')\n",
    "plt.title('Distribution of Monthly Sales by Store Location')\n",
    "plt.xlabel('Monthly Sales')\n",
    "plt.ylabel('Frequency')\n",
    "plt.show()"
   ]
  },
  {
   "cell_type": "markdown",
   "id": "63551101",
   "metadata": {},
   "source": [
    "# b.Independent Sample T-test"
   ]
  },
  {
   "cell_type": "code",
   "execution_count": 20,
   "id": "9e8cdabc",
   "metadata": {},
   "outputs": [
    {
     "name": "stdout",
     "output_type": "stream",
     "text": [
      "t_statistics for independent sample: 0.7723822331410712\n",
      "probability value for independent sample: 0.44025446821942793 \n",
      "\n",
      "Fail to reject null hypothesis: There is not enough evidence to say that the avg monthly sales between urban and rural stores is different\n"
     ]
    }
   ],
   "source": [
    "#seperate data in to two groups\n",
    "urban_sales=two_sample[two_sample['store_location']=='Urban']['monthly_sales']\n",
    "rural_sales=two_sample[two_sample['store_location']=='Rural']['monthly_sales']\n",
    "\n",
    "#perform independent sample t-test\n",
    "t_statistics,p_val=stats.ttest_ind(urban_sales,rural_sales)\n",
    "\n",
    "#print the test result\n",
    "print(f't_statistics for independent sample: {t_statistics}')\n",
    "print(f'probability value for independent sample: {p_val}','\\n')\n",
    "\n",
    "#determine if we reject the null hypothesis or not\n",
    "alpha=0.05\n",
    "if p_val <alpha:\n",
    "    print('Reject the null hypothesis: There is significant difference between average monthly sales between urban and rural')\n",
    "else:\n",
    "    print('Fail to reject null hypothesis: There is not enough evidence to say that the avg monthly sales between urban and rural stores is different')\n",
    "\n"
   ]
  },
  {
   "cell_type": "markdown",
   "id": "06ffa23d",
   "metadata": {},
   "source": [
    "# Step 5: Paired Sample T-test"
   ]
  },
  {
   "cell_type": "markdown",
   "id": "8f1ab881",
   "metadata": {},
   "source": [
    "# a.Data Processing and EDA"
   ]
  },
  {
   "cell_type": "code",
   "execution_count": 21,
   "id": "ecb310a3",
   "metadata": {},
   "outputs": [
    {
     "data": {
      "text/html": [
       "<div>\n",
       "<style scoped>\n",
       "    .dataframe tbody tr th:only-of-type {\n",
       "        vertical-align: middle;\n",
       "    }\n",
       "\n",
       "    .dataframe tbody tr th {\n",
       "        vertical-align: top;\n",
       "    }\n",
       "\n",
       "    .dataframe thead th {\n",
       "        text-align: right;\n",
       "    }\n",
       "</style>\n",
       "<table border=\"1\" class=\"dataframe\">\n",
       "  <thead>\n",
       "    <tr style=\"text-align: right;\">\n",
       "      <th></th>\n",
       "      <th>store_id</th>\n",
       "      <th>store_area</th>\n",
       "      <th>items_available</th>\n",
       "      <th>daily_customer_count</th>\n",
       "      <th>monthly_sales_before</th>\n",
       "      <th>monthly_sales_after</th>\n",
       "      <th>num_employees</th>\n",
       "    </tr>\n",
       "  </thead>\n",
       "  <tbody>\n",
       "    <tr>\n",
       "      <th>0</th>\n",
       "      <td>7</td>\n",
       "      <td>1284.466734</td>\n",
       "      <td>725</td>\n",
       "      <td>506</td>\n",
       "      <td>18568.040633</td>\n",
       "      <td>30220.955444</td>\n",
       "      <td>49</td>\n",
       "    </tr>\n",
       "    <tr>\n",
       "      <th>1</th>\n",
       "      <td>15</td>\n",
       "      <td>1435.965854</td>\n",
       "      <td>1324</td>\n",
       "      <td>509</td>\n",
       "      <td>21637.098858</td>\n",
       "      <td>40609.484487</td>\n",
       "      <td>27</td>\n",
       "    </tr>\n",
       "    <tr>\n",
       "      <th>2</th>\n",
       "      <td>11</td>\n",
       "      <td>1593.272270</td>\n",
       "      <td>2765</td>\n",
       "      <td>500</td>\n",
       "      <td>9176.428748</td>\n",
       "      <td>23191.200558</td>\n",
       "      <td>9</td>\n",
       "    </tr>\n",
       "    <tr>\n",
       "      <th>3</th>\n",
       "      <td>8</td>\n",
       "      <td>1942.606865</td>\n",
       "      <td>1436</td>\n",
       "      <td>537</td>\n",
       "      <td>26693.108672</td>\n",
       "      <td>31076.607873</td>\n",
       "      <td>34</td>\n",
       "    </tr>\n",
       "    <tr>\n",
       "      <th>4</th>\n",
       "      <td>7</td>\n",
       "      <td>1757.297887</td>\n",
       "      <td>2806</td>\n",
       "      <td>468</td>\n",
       "      <td>15844.150571</td>\n",
       "      <td>23370.443436</td>\n",
       "      <td>10</td>\n",
       "    </tr>\n",
       "    <tr>\n",
       "      <th>...</th>\n",
       "      <td>...</td>\n",
       "      <td>...</td>\n",
       "      <td>...</td>\n",
       "      <td>...</td>\n",
       "      <td>...</td>\n",
       "      <td>...</td>\n",
       "      <td>...</td>\n",
       "    </tr>\n",
       "    <tr>\n",
       "      <th>495</th>\n",
       "      <td>17</td>\n",
       "      <td>1614.722924</td>\n",
       "      <td>1235</td>\n",
       "      <td>547</td>\n",
       "      <td>28127.336710</td>\n",
       "      <td>20080.335584</td>\n",
       "      <td>8</td>\n",
       "    </tr>\n",
       "    <tr>\n",
       "      <th>496</th>\n",
       "      <td>7</td>\n",
       "      <td>1549.935662</td>\n",
       "      <td>2838</td>\n",
       "      <td>498</td>\n",
       "      <td>18665.482229</td>\n",
       "      <td>23640.898484</td>\n",
       "      <td>15</td>\n",
       "    </tr>\n",
       "    <tr>\n",
       "      <th>497</th>\n",
       "      <td>13</td>\n",
       "      <td>1647.735379</td>\n",
       "      <td>2463</td>\n",
       "      <td>500</td>\n",
       "      <td>21683.745244</td>\n",
       "      <td>22000.855617</td>\n",
       "      <td>36</td>\n",
       "    </tr>\n",
       "    <tr>\n",
       "      <th>498</th>\n",
       "      <td>4</td>\n",
       "      <td>1586.750593</td>\n",
       "      <td>2649</td>\n",
       "      <td>528</td>\n",
       "      <td>18061.609082</td>\n",
       "      <td>19168.810531</td>\n",
       "      <td>11</td>\n",
       "    </tr>\n",
       "    <tr>\n",
       "      <th>499</th>\n",
       "      <td>4</td>\n",
       "      <td>2236.590042</td>\n",
       "      <td>2509</td>\n",
       "      <td>468</td>\n",
       "      <td>16632.632387</td>\n",
       "      <td>14420.792174</td>\n",
       "      <td>15</td>\n",
       "    </tr>\n",
       "  </tbody>\n",
       "</table>\n",
       "<p>500 rows × 7 columns</p>\n",
       "</div>"
      ],
      "text/plain": [
       "     store_id   store_area  items_available  daily_customer_count  \\\n",
       "0           7  1284.466734              725                   506   \n",
       "1          15  1435.965854             1324                   509   \n",
       "2          11  1593.272270             2765                   500   \n",
       "3           8  1942.606865             1436                   537   \n",
       "4           7  1757.297887             2806                   468   \n",
       "..        ...          ...              ...                   ...   \n",
       "495        17  1614.722924             1235                   547   \n",
       "496         7  1549.935662             2838                   498   \n",
       "497        13  1647.735379             2463                   500   \n",
       "498         4  1586.750593             2649                   528   \n",
       "499         4  2236.590042             2509                   468   \n",
       "\n",
       "     monthly_sales_before  monthly_sales_after  num_employees  \n",
       "0            18568.040633         30220.955444             49  \n",
       "1            21637.098858         40609.484487             27  \n",
       "2             9176.428748         23191.200558              9  \n",
       "3            26693.108672         31076.607873             34  \n",
       "4            15844.150571         23370.443436             10  \n",
       "..                    ...                  ...            ...  \n",
       "495          28127.336710         20080.335584              8  \n",
       "496          18665.482229         23640.898484             15  \n",
       "497          21683.745244         22000.855617             36  \n",
       "498          18061.609082         19168.810531             11  \n",
       "499          16632.632387         14420.792174             15  \n",
       "\n",
       "[500 rows x 7 columns]"
      ]
     },
     "execution_count": 21,
     "metadata": {},
     "output_type": "execute_result"
    }
   ],
   "source": [
    "paired_sample"
   ]
  },
  {
   "cell_type": "code",
   "execution_count": 22,
   "id": "82c5c861",
   "metadata": {},
   "outputs": [
    {
     "data": {
      "text/html": [
       "<div>\n",
       "<style scoped>\n",
       "    .dataframe tbody tr th:only-of-type {\n",
       "        vertical-align: middle;\n",
       "    }\n",
       "\n",
       "    .dataframe tbody tr th {\n",
       "        vertical-align: top;\n",
       "    }\n",
       "\n",
       "    .dataframe thead th {\n",
       "        text-align: right;\n",
       "    }\n",
       "</style>\n",
       "<table border=\"1\" class=\"dataframe\">\n",
       "  <thead>\n",
       "    <tr style=\"text-align: right;\">\n",
       "      <th></th>\n",
       "      <th>count</th>\n",
       "      <th>mean</th>\n",
       "      <th>std</th>\n",
       "      <th>min</th>\n",
       "      <th>25%</th>\n",
       "      <th>50%</th>\n",
       "      <th>75%</th>\n",
       "      <th>max</th>\n",
       "    </tr>\n",
       "  </thead>\n",
       "  <tbody>\n",
       "    <tr>\n",
       "      <th>store_id</th>\n",
       "      <td>500.0</td>\n",
       "      <td>9.616000</td>\n",
       "      <td>5.662922</td>\n",
       "      <td>1.000000</td>\n",
       "      <td>4.750000</td>\n",
       "      <td>9.000000</td>\n",
       "      <td>15.000000</td>\n",
       "      <td>19.000000</td>\n",
       "    </tr>\n",
       "    <tr>\n",
       "      <th>store_area</th>\n",
       "      <td>500.0</td>\n",
       "      <td>1500.033666</td>\n",
       "      <td>299.278880</td>\n",
       "      <td>690.934007</td>\n",
       "      <td>1288.959528</td>\n",
       "      <td>1494.370598</td>\n",
       "      <td>1692.086499</td>\n",
       "      <td>2423.664243</td>\n",
       "    </tr>\n",
       "    <tr>\n",
       "      <th>items_available</th>\n",
       "      <td>500.0</td>\n",
       "      <td>1761.688000</td>\n",
       "      <td>713.102689</td>\n",
       "      <td>501.000000</td>\n",
       "      <td>1185.500000</td>\n",
       "      <td>1765.500000</td>\n",
       "      <td>2425.000000</td>\n",
       "      <td>2977.000000</td>\n",
       "    </tr>\n",
       "    <tr>\n",
       "      <th>daily_customer_count</th>\n",
       "      <td>500.0</td>\n",
       "      <td>499.588000</td>\n",
       "      <td>21.834003</td>\n",
       "      <td>438.000000</td>\n",
       "      <td>483.000000</td>\n",
       "      <td>500.000000</td>\n",
       "      <td>515.000000</td>\n",
       "      <td>565.000000</td>\n",
       "    </tr>\n",
       "    <tr>\n",
       "      <th>monthly_sales_before</th>\n",
       "      <td>500.0</td>\n",
       "      <td>20442.763482</td>\n",
       "      <td>5137.782731</td>\n",
       "      <td>5492.381587</td>\n",
       "      <td>17378.585124</td>\n",
       "      <td>20570.226365</td>\n",
       "      <td>23626.600346</td>\n",
       "      <td>36302.455403</td>\n",
       "    </tr>\n",
       "    <tr>\n",
       "      <th>monthly_sales_after</th>\n",
       "      <td>500.0</td>\n",
       "      <td>25135.386884</td>\n",
       "      <td>4948.120938</td>\n",
       "      <td>10355.243176</td>\n",
       "      <td>21680.707808</td>\n",
       "      <td>25376.293679</td>\n",
       "      <td>28357.496337</td>\n",
       "      <td>40609.484487</td>\n",
       "    </tr>\n",
       "    <tr>\n",
       "      <th>num_employees</th>\n",
       "      <td>500.0</td>\n",
       "      <td>26.780000</td>\n",
       "      <td>12.965794</td>\n",
       "      <td>5.000000</td>\n",
       "      <td>16.000000</td>\n",
       "      <td>26.000000</td>\n",
       "      <td>38.000000</td>\n",
       "      <td>49.000000</td>\n",
       "    </tr>\n",
       "  </tbody>\n",
       "</table>\n",
       "</div>"
      ],
      "text/plain": [
       "                      count          mean          std           min  \\\n",
       "store_id              500.0      9.616000     5.662922      1.000000   \n",
       "store_area            500.0   1500.033666   299.278880    690.934007   \n",
       "items_available       500.0   1761.688000   713.102689    501.000000   \n",
       "daily_customer_count  500.0    499.588000    21.834003    438.000000   \n",
       "monthly_sales_before  500.0  20442.763482  5137.782731   5492.381587   \n",
       "monthly_sales_after   500.0  25135.386884  4948.120938  10355.243176   \n",
       "num_employees         500.0     26.780000    12.965794      5.000000   \n",
       "\n",
       "                               25%           50%           75%           max  \n",
       "store_id                  4.750000      9.000000     15.000000     19.000000  \n",
       "store_area             1288.959528   1494.370598   1692.086499   2423.664243  \n",
       "items_available        1185.500000   1765.500000   2425.000000   2977.000000  \n",
       "daily_customer_count    483.000000    500.000000    515.000000    565.000000  \n",
       "monthly_sales_before  17378.585124  20570.226365  23626.600346  36302.455403  \n",
       "monthly_sales_after   21680.707808  25376.293679  28357.496337  40609.484487  \n",
       "num_employees            16.000000     26.000000     38.000000     49.000000  "
      ]
     },
     "execution_count": 22,
     "metadata": {},
     "output_type": "execute_result"
    }
   ],
   "source": [
    "#calculate the descriptie stats\n",
    "paired_sample.describe().T"
   ]
  },
  {
   "cell_type": "code",
   "execution_count": 23,
   "id": "39b409a4",
   "metadata": {},
   "outputs": [
    {
     "data": {
      "text/plain": [
       "store_id                0\n",
       "store_area              0\n",
       "items_available         0\n",
       "daily_customer_count    0\n",
       "monthly_sales_before    0\n",
       "monthly_sales_after     0\n",
       "num_employees           0\n",
       "dtype: int64"
      ]
     },
     "execution_count": 23,
     "metadata": {},
     "output_type": "execute_result"
    }
   ],
   "source": [
    "paired_sample.isnull().sum()"
   ]
  },
  {
   "cell_type": "code",
   "execution_count": 24,
   "id": "5efa5b00",
   "metadata": {},
   "outputs": [
    {
     "data": {
      "text/plain": [
       "0"
      ]
     },
     "execution_count": 24,
     "metadata": {},
     "output_type": "execute_result"
    }
   ],
   "source": [
    "paired_sample.duplicated().sum()"
   ]
  },
  {
   "cell_type": "code",
   "execution_count": 25,
   "id": "236b0d6f",
   "metadata": {},
   "outputs": [
    {
     "data": {
      "text/plain": [
       "(500, 7)"
      ]
     },
     "execution_count": 25,
     "metadata": {},
     "output_type": "execute_result"
    }
   ],
   "source": [
    "paired_sample.shape"
   ]
  },
  {
   "cell_type": "code",
   "execution_count": 26,
   "id": "cd59a615",
   "metadata": {},
   "outputs": [
    {
     "name": "stdout",
     "output_type": "stream",
     "text": [
      "<class 'pandas.core.frame.DataFrame'>\n",
      "RangeIndex: 500 entries, 0 to 499\n",
      "Data columns (total 7 columns):\n",
      " #   Column                Non-Null Count  Dtype  \n",
      "---  ------                --------------  -----  \n",
      " 0   store_id              500 non-null    int64  \n",
      " 1   store_area            500 non-null    float64\n",
      " 2   items_available       500 non-null    int64  \n",
      " 3   daily_customer_count  500 non-null    int64  \n",
      " 4   monthly_sales_before  500 non-null    float64\n",
      " 5   monthly_sales_after   500 non-null    float64\n",
      " 6   num_employees         500 non-null    int64  \n",
      "dtypes: float64(3), int64(4)\n",
      "memory usage: 27.5 KB\n"
     ]
    }
   ],
   "source": [
    "paired_sample.info()"
   ]
  },
  {
   "cell_type": "markdown",
   "id": "9d06a2d5",
   "metadata": {},
   "source": [
    "# Distribution on monthly sales before and after"
   ]
  },
  {
   "cell_type": "code",
   "execution_count": 64,
   "id": "64d436d1",
   "metadata": {},
   "outputs": [
    {
     "data": {
      "image/png": "[encoded data removed]",
      "text/plain": [
       "<Figure size 720x432 with 1 Axes>"
      ]
     },
     "metadata": {
      "needs_background": "light"
     },
     "output_type": "display_data"
    }
   ],
   "source": [
    "plt.figure(figsize=(10, 6))\n",
    "\n",
    "# Scatter plot for 'monthly_sales_before' in red\n",
    "sns.scatterplot(x='monthly_sales_before', y='monthly_sales_after', data=paired_sample, color='blue', s=50, alpha=0.6, label='Monthly Sales Before')\n",
    "\n",
    "# Scatter plot for 'monthly_sales_after' in blue\n",
    "sns.scatterplot(x='monthly_sales_before', y='monthly_sales_after', data=paired_sample, color='yellow', s=50, alpha=0.6, label='Monthly Sales After')\n",
    "\n",
    "# Fit the regression line on the combined data\n",
    "sns.regplot(x='monthly_sales_before', y='monthly_sales_after', data=paired_sample, scatter=False, color='black')\n",
    "\n",
    "plt.xlabel('Monthly Sales Before')\n",
    "plt.ylabel('Monthly Sales After')\n",
    "plt.title('Scatter Plot with Regression Line and Colored Points')\n",
    "plt.legend()\n",
    "plt.show()"
   ]
  },
  {
   "cell_type": "markdown",
   "id": "3d002a8c",
   "metadata": {},
   "source": [
    "# b.paired sample T_test"
   ]
  },
  {
   "cell_type": "code",
   "execution_count": 27,
   "id": "4fd7740c",
   "metadata": {},
   "outputs": [
    {
     "name": "stdout",
     "output_type": "stream",
     "text": [
      "t-statistics of paired sample is: -14.70847243833469\n",
      "Probablity value of paired sample is: 6.105558488766786e-41 \n",
      "\n",
      "Reject the null hypothesis: There is significant difference between average monthly sales before and after the marketing campaign\n"
     ]
    }
   ],
   "source": [
    "#perform paired sample t_test\n",
    "\n",
    "t_stats1,p_val1=stats.ttest_rel(paired_sample['monthly_sales_before'],paired_sample['monthly_sales_after'])\n",
    "\n",
    "#Print the test result\n",
    "print(f't-statistics of paired sample is: {t_stats1}')\n",
    "print(f'Probablity value of paired sample is: {p_val1}','\\n')\n",
    "\n",
    "#determine if we reject the null hypothesis or not\n",
    "alpha=0.05\n",
    "if p_val1<alpha:\n",
    "    print(\"Reject the null hypothesis: There is significant difference between average monthly sales before and after the marketing campaign\")\n",
    "else:\n",
    "    print(\"Reject the null hypothesis: There is not enough evidence to say that the average monthly sales before and after the marketing campaign is different\")"
   ]
  },
  {
   "cell_type": "code",
   "execution_count": null,
   "id": "7d73af47",
   "metadata": {},
   "outputs": [],
   "source": []
  }
 ],
 "metadata": {
  "kernelspec": {
   "display_name": "Python 3 (ipykernel)",
   "language": "python",
   "name": "python3"
  },
  "language_info": {
   "codemirror_mode": {
    "name": "ipython",
    "version": 3
   },
   "file_extension": ".py",
   "mimetype": "text/x-python",
   "name": "python",
   "nbconvert_exporter": "python",
   "pygments_lexer": "ipython3",
   "version": "3.9.7"
  }
 },
 "nbformat": 4,
 "nbformat_minor": 5
}
